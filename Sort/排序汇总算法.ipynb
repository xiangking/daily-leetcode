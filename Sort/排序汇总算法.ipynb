{
 "cells": [
  {
   "cell_type": "code",
   "execution_count": 23,
   "metadata": {
    "collapsed": true
   },
   "outputs": [],
   "source": [
    "raw_list = [10, 30, 76, 5, 18, 0, 24, 8, 16, 66, 92, 84, 92,1]"
   ]
  },
  {
   "cell_type": "markdown",
   "metadata": {},
   "source": [
    "### 冒泡排序"
   ]
  },
  {
   "cell_type": "code",
   "execution_count": 5,
   "metadata": {
    "collapsed": true
   },
   "outputs": [],
   "source": [
    "# import time\n",
    "\n",
    "# def bubble_sort(data):\n",
    "#     time_start = time.time()\n",
    "#     length = len(data)\n",
    "#     for i in range(length)[::-1]:\n",
    "#         flag = False\n",
    "#         for j in range(i):\n",
    "#             if data[j]>data[j+1]:\n",
    "#                 data[j],data[j+1] = data[j+1], data[j]\n",
    "#                 flag=True\n",
    "#         if not flag:\n",
    "#             break\n",
    "#     time_end = time.time()\n",
    "#     print('Time: ', time_end-time_start)\n",
    "#     return data"
   ]
  },
  {
   "cell_type": "code",
   "execution_count": 12,
   "metadata": {
    "collapsed": true
   },
   "outputs": [],
   "source": [
    "# 王翔习惯版本\n",
    "def bubble_sort(nums):\n",
    "    nums_size = len(nums)\n",
    "    \n",
    "    for upper_limit in range(nums_size)[::-1]:\n",
    "        flag = False\n",
    "        for index in range(0, upper_limit):\n",
    "            if nums[index] > nums[index+1]:\n",
    "                nums[index], nums[index+1] = nums[index+1], nums[index]\n",
    "                flag = True\n",
    "        if not flag:\n",
    "            break\n",
    "    return nums\n",
    "        \n",
    "            \n",
    "    "
   ]
  },
  {
   "cell_type": "code",
   "execution_count": 14,
   "metadata": {},
   "outputs": [
    {
     "data": {
      "text/plain": [
       "[0, 1, 5, 8, 10, 16, 18, 24, 30, 66, 76, 84, 92, 92]"
      ]
     },
     "execution_count": 14,
     "metadata": {},
     "output_type": "execute_result"
    }
   ],
   "source": [
    "bubble_sort(raw_list)"
   ]
  },
  {
   "cell_type": "code",
   "execution_count": 5,
   "metadata": {},
   "outputs": [
    {
     "data": {
      "text/plain": [
       "range(13, -1, -1)"
      ]
     },
     "execution_count": 5,
     "metadata": {},
     "output_type": "execute_result"
    }
   ],
   "source": [
    "list(range(14)[::-1])"
   ]
  },
  {
   "cell_type": "markdown",
   "metadata": {},
   "source": [
    "###  快速排序"
   ]
  },
  {
   "cell_type": "code",
   "execution_count": 46,
   "metadata": {
    "collapsed": true
   },
   "outputs": [],
   "source": [
    "# def quick_sort(nums):\n",
    "#     if len(nums) <= 1:\n",
    "#         return nums\n",
    "#    # 随意选取一个基准数，比如选取列表第一个数\n",
    "#     base = nums[0]\n",
    "#    # left列表为nums中比基准数base小或等于base的数组成的列表\n",
    "#     left = [x for x in nums[1:] if x <= base]\n",
    "#    # right列表为nums中比基准数base大的数组成的列表\n",
    "#     right = [x for x in nums[1:] if x > base]\n",
    "#    # 对left和right列表递归排序\n",
    "#     return quick_sort(left) + [base] + quick_sort(right)"
   ]
  },
  {
   "cell_type": "code",
   "execution_count": 16,
   "metadata": {
    "collapsed": true
   },
   "outputs": [],
   "source": [
    "# 王翔习惯版本\n",
    "def quick_sort(nums):\n",
    "    if len(nums) <= 1:\n",
    "        return nums\n",
    "    \n",
    "    base = nums[0]\n",
    "    left_nums = []\n",
    "    right_nums = []\n",
    "    \n",
    "    for num in nums[1:]:\n",
    "        if num <= base:\n",
    "            left_nums.append(num)\n",
    "        else:\n",
    "            right_nums.append(num)\n",
    "    \n",
    "    return quick_sort(left_nums) + [base] + quick_sort(right_nums)"
   ]
  },
  {
   "cell_type": "code",
   "execution_count": 17,
   "metadata": {},
   "outputs": [
    {
     "data": {
      "text/plain": [
       "[0, 1, 5, 8, 10, 16, 18, 24, 30, 66, 76, 84, 92, 92]"
      ]
     },
     "execution_count": 17,
     "metadata": {},
     "output_type": "execute_result"
    }
   ],
   "source": [
    "quick_sort(raw_list)"
   ]
  },
  {
   "cell_type": "markdown",
   "metadata": {},
   "source": [
    "### 归并排序"
   ]
  },
  {
   "cell_type": "code",
   "execution_count": 69,
   "metadata": {
    "collapsed": true
   },
   "outputs": [],
   "source": [
    "# def mergesort(seq):\n",
    "#     if len(seq) <= 1:\n",
    "#         return seq\n",
    "#     mid = int(len(seq) / 2)\n",
    "#     left = mergesort(seq[:mid])\n",
    "#     right = mergesort(seq[mid:])\n",
    "#     return merge(left, right)\n",
    "\n",
    "\n",
    "# def merge(left, right):\n",
    "#     result = []\n",
    "#     i, j = 0, 0\n",
    "#     # 双指针来对比\n",
    "#     while i < len(left) and j < len(right):\n",
    "#         if left[i] <= right[j]:\n",
    "#             result.append(left[i])\n",
    "#             i += 1\n",
    "#         else:\n",
    "#             result.append(right[j])\n",
    "#             j += 1\n",
    "#     result += left[i:]\n",
    "#     result += right[j:]\n",
    "    \n",
    "#     return result"
   ]
  },
  {
   "cell_type": "code",
   "execution_count": 24,
   "metadata": {
    "collapsed": true
   },
   "outputs": [],
   "source": [
    "# 王翔版本\n",
    "def merge(left_nums, right_nums):\n",
    "    res = []\n",
    "    index, jndex = 0, 0\n",
    "    \n",
    "    while index < len(left_nums) and jndex < len(right_nums):\n",
    "        if left_nums[index] <= right_nums[jndex]:\n",
    "            res.append(left_nums[index])\n",
    "            index += 1\n",
    "        else:\n",
    "            res.append(right_nums[jndex])\n",
    "            jndex += 1\n",
    "    \n",
    "    res += left_nums[index:]\n",
    "    res += right_nums[jndex:]\n",
    "    \n",
    "    return res\n",
    "            \n",
    "            \n",
    "def merge_sort(nums):\n",
    "    if len(nums) <= 1:\n",
    "        return nums\n",
    "    \n",
    "    base = len(nums) // 2\n",
    "    left_nums = merge_sort(nums[:base])\n",
    "    right_nums = merge_sort(nums[base:])\n",
    "    \n",
    "    return merge(left_nums, right_nums)\n",
    "    "
   ]
  },
  {
   "cell_type": "code",
   "execution_count": 25,
   "metadata": {},
   "outputs": [
    {
     "data": {
      "text/plain": [
       "[0, 1, 5, 8, 10, 16, 18, 24, 30, 66, 76, 84, 92, 92]"
      ]
     },
     "execution_count": 25,
     "metadata": {},
     "output_type": "execute_result"
    }
   ],
   "source": [
    "merg_sort(raw_list)"
   ]
  }
 ],
 "metadata": {
  "kernelspec": {
   "display_name": "Python 3",
   "language": "python",
   "name": "python3"
  },
  "language_info": {
   "codemirror_mode": {
    "name": "ipython",
    "version": 3
   },
   "file_extension": ".py",
   "mimetype": "text/x-python",
   "name": "python",
   "nbconvert_exporter": "python",
   "pygments_lexer": "ipython3",
   "version": "3.6.3"
  }
 },
 "nbformat": 4,
 "nbformat_minor": 2
}
